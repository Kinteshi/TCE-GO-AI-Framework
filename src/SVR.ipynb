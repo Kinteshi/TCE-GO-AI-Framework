{
 "cells": [
  {
   "cell_type": "code",
   "execution_count": 9,
   "metadata": {},
   "outputs": [],
   "source": [
    "import pandas as pd\r\n",
    "from sklearn.svm import SVR\r\n",
    "from sklearn.ensemble import RandomForestRegressor\r\n",
    "\r\n",
    "from preprocessing.dataprep import data_preparation, filter_tce_data, encode_train_test\r\n",
    "from preprocessing.text import fixColumnName\r\n",
    "from sklearn.model_selection import train_test_split\r\n"
   ]
  },
  {
   "cell_type": "code",
   "execution_count": 10,
   "metadata": {},
   "outputs": [],
   "source": [
    "data = pd.read_csv('../database/dadosTCE.csv', low_memory=False)\r\n",
    "data = data.sample(1000,).reset_index(drop=True)"
   ]
  },
  {
   "cell_type": "code",
   "execution_count": 11,
   "metadata": {},
   "outputs": [],
   "source": [
    "data.columns = list(map(fixColumnName, data.columns))\r\n",
    "data, _ = filter_tce_data(data, '../database/norel.xlsx')\r\n",
    "\r\n",
    "categorical_columns = [\r\n",
    "    # 'exercicio_do_orcamento_ano',\r\n",
    "    # 'empenho_sequencial_empenho',\r\n",
    "    'orgao',\r\n",
    "    'orgao_sucessor_atual',\r\n",
    "    'tipo_administracao_nome',\r\n",
    "    'tipo_poder_nome',\r\n",
    "    # 'classificacao_orcamentaria_descricao',\r\n",
    "    'funcao',\r\n",
    "    'subfuncao',\r\n",
    "    'programa',\r\n",
    "    'acao',\r\n",
    "    'grupo_despesa',\r\n",
    "    'elemento_despesa',\r\n",
    "    # 'natureza_despesa_cod',\r\n",
    "    # 'natureza_despesa_nome',\r\n",
    "    # 'formalidade_nome',\r\n",
    "    'modalidade_licitacao_nome',\r\n",
    "    # 'fonte_recurso_cod',\r\n",
    "    'fonte_recurso_nome',\r\n",
    "    'beneficiario_cnpj',\r\n",
    "    'beneficiario_cpf',\r\n",
    "    'beneficiario_cpf/cnpj',\r\n",
    "    # 'periodo',\r\n",
    "    'empenho_numero_do_processo',\r\n",
    "    # 'empenho_sequencial_empenho.1',\r\n",
    "]\r\n",
    "\r\n",
    "text_columns = [\r\n",
    "    # 'beneficiario_nome',\r\n",
    "    'empenho_historico',\r\n",
    "]\r\n",
    "\r\n",
    "numerical_columns = [\r\n",
    "    # 'valor_empenhado',\r\n",
    "    # 'valor_anulacao_empenho',\r\n",
    "    # # 'valor_estorno_anulacao_empenho',\r\n",
    "    # 'valor_cancelamento_empenho',\r\n",
    "    # # 'valor_anulacao_cancelamento_empenho',\r\n",
    "    # 'valor_saldo_do_empenho',\r\n",
    "    # 'valor_liquidacao_empenho',\r\n",
    "    # 'valor_anulacao_liquidacao_empenho',\r\n",
    "    # 'valor_saldo_liquidado',\r\n",
    "    # 'valor_ordem_de_pagamento',\r\n",
    "    # 'valor_guia_recolhimento',\r\n",
    "    # 'valor_anulacao_ordem_de_pagamento',\r\n",
    "    # 'valor_estorno_anulacao_o._pagamento',\r\n",
    "    # 'valor_estorno_guia_recolhimento',\r\n",
    "    # 'valor_saldo_pago',\r\n",
    "    # 'valor_saldo_a_pagar',\r\n",
    "    # 'valor_a_liquidar',\r\n",
    "    # 'valor_a_pagar_liquidado'\r\n",
    "]\r\n",
    "\r\n",
    "target = data.valor_empenhado\r\n",
    "\r\n",
    "data = data.loc[:, (*categorical_columns,\r\n",
    "                    *text_columns,\r\n",
    "                    *numerical_columns,)]\r\n",
    "\r\n",
    "data, categorical_columns, numerical_columns = data_preparation(\r\n",
    "    data,\r\n",
    "    target,\r\n",
    "    test_size=0.3,\r\n",
    "    categorical_columns=categorical_columns,\r\n",
    "    numerical_columns=numerical_columns,\r\n",
    "    text_columns=text_columns,)\r\n",
    "\r\n",
    "X_train, X_test, y_train, y_test = train_test_split(\r\n",
    "    data, target, test_size=0.3, random_state=15)\r\n",
    "\r\n",
    "X_train, X_test = encode_train_test(\r\n",
    "    X_train, X_test, numerical_columns, categorical_columns, text_columns, tfidf=True,)\r\n"
   ]
  },
  {
   "cell_type": "code",
   "execution_count": 12,
   "metadata": {},
   "outputs": [
    {
     "data": {
      "text/plain": "SVR(C=10, kernel='linear')"
     },
     "execution_count": 12,
     "metadata": {},
     "output_type": "execute_result"
    }
   ],
   "source": [
    "reg = SVR(kernel='linear', C=10)\r\n",
    "reg.fit(X_train, y_train)"
   ]
  },
  {
   "cell_type": "code",
   "execution_count": 15,
   "metadata": {},
   "outputs": [],
   "source": [
    "y_pred = reg.predict(X_test)"
   ]
  },
  {
   "cell_type": "code",
   "execution_count": 21,
   "metadata": {},
   "outputs": [
    {
     "data": {
      "text/plain": "(0.0001768486321434004, -0.06243990726848314, 3058217367003.1367)"
     },
     "execution_count": 21,
     "metadata": {},
     "output_type": "execute_result"
    }
   ],
   "source": [
    "from sklearn.metrics import mean_squared_error, r2_score, explained_variance_score\r\n",
    "\r\n",
    "explained_variance_score(y_test, y_pred), r2_score(y_test, y_pred), mean_squared_error(y_test, y_pred)\r\n"
   ]
  },
  {
   "cell_type": "code",
   "execution_count": null,
   "metadata": {},
   "outputs": [],
   "source": [
    "reg = RandomForestRegressor(n_estimators=1500, random_state=15)\r\n",
    "reg.fit(X_train, y_train)"
   ]
  },
  {
   "cell_type": "code",
   "execution_count": null,
   "metadata": {},
   "outputs": [],
   "source": [
    "y_pred = reg.predict(X_test)"
   ]
  },
  {
   "cell_type": "code",
   "execution_count": null,
   "metadata": {},
   "outputs": [],
   "source": [
    "explained_variance_score(y_test, y_pred), r2_score(\r\n",
    "    y_test, y_pred), mean_squared_error(y_test, y_pred)\r\n"
   ]
  }
 ],
 "metadata": {
  "kernelspec": {
   "display_name": "Python 3.9.4 64-bit ('tce': conda)",
   "name": "python394jvsc74a57bd0aec94d356a37360f5d9e055019e4c65ba8db0c4673b8182eeb6101cfd9f8f53a"
  },
  "language_info": {
   "codemirror_mode": {
    "name": "ipython",
    "version": 3
   },
   "file_extension": ".py",
   "mimetype": "text/x-python",
   "name": "python",
   "nbconvert_exporter": "python",
   "pygments_lexer": "ipython3",
   "version": "3.9.4"
  },
  "orig_nbformat": 2
 },
 "nbformat": 4,
 "nbformat_minor": 2
}